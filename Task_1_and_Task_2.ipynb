{
  "nbformat": 4,
  "nbformat_minor": 0,
  "metadata": {
    "colab": {
      "provenance": []
    },
    "kernelspec": {
      "name": "python3",
      "display_name": "Python 3"
    },
    "language_info": {
      "name": "python"
    }
  },
  "cells": [
    {
      "cell_type": "code",
      "source": [
        "!pip install python-dotenv\n"
      ],
      "metadata": {
        "colab": {
          "base_uri": "https://localhost:8080/"
        },
        "id": "6_1BUq1EOViZ",
        "outputId": "4f77acc4-f079-4af7-815d-09bedac226cf"
      },
      "execution_count": 68,
      "outputs": [
        {
          "output_type": "stream",
          "name": "stdout",
          "text": [
            "Requirement already satisfied: python-dotenv in /usr/local/lib/python3.12/dist-packages (1.1.1)\n"
          ]
        }
      ]
    },
    {
      "cell_type": "code",
      "source": [
        "#TASK 1\n",
        "\n",
        "!pip install groq\n",
        "\n",
        "\n",
        "import os\n",
        "from dotenv import load_dotenv\n",
        "from groq import Groq\n",
        "\n",
        "load_dotenv()\n",
        "\n",
        "client = Groq(api_key=os.getenv(\"GROQ_API_KEY\"))"
      ],
      "metadata": {
        "colab": {
          "base_uri": "https://localhost:8080/"
        },
        "id": "I0lz874mOWPc",
        "outputId": "6eb5c77e-e8c5-45ed-b08e-94aaeb3afb75"
      },
      "execution_count": 81,
      "outputs": [
        {
          "output_type": "stream",
          "name": "stdout",
          "text": [
            "Requirement already satisfied: groq in /usr/local/lib/python3.12/dist-packages (0.31.1)\n",
            "Requirement already satisfied: anyio<5,>=3.5.0 in /usr/local/lib/python3.12/dist-packages (from groq) (4.10.0)\n",
            "Requirement already satisfied: distro<2,>=1.7.0 in /usr/local/lib/python3.12/dist-packages (from groq) (1.9.0)\n",
            "Requirement already satisfied: httpx<1,>=0.23.0 in /usr/local/lib/python3.12/dist-packages (from groq) (0.28.1)\n",
            "Requirement already satisfied: pydantic<3,>=1.9.0 in /usr/local/lib/python3.12/dist-packages (from groq) (2.11.9)\n",
            "Requirement already satisfied: sniffio in /usr/local/lib/python3.12/dist-packages (from groq) (1.3.1)\n",
            "Requirement already satisfied: typing-extensions<5,>=4.10 in /usr/local/lib/python3.12/dist-packages (from groq) (4.15.0)\n",
            "Requirement already satisfied: idna>=2.8 in /usr/local/lib/python3.12/dist-packages (from anyio<5,>=3.5.0->groq) (3.10)\n",
            "Requirement already satisfied: certifi in /usr/local/lib/python3.12/dist-packages (from httpx<1,>=0.23.0->groq) (2025.8.3)\n",
            "Requirement already satisfied: httpcore==1.* in /usr/local/lib/python3.12/dist-packages (from httpx<1,>=0.23.0->groq) (1.0.9)\n",
            "Requirement already satisfied: h11>=0.16 in /usr/local/lib/python3.12/dist-packages (from httpcore==1.*->httpx<1,>=0.23.0->groq) (0.16.0)\n",
            "Requirement already satisfied: annotated-types>=0.6.0 in /usr/local/lib/python3.12/dist-packages (from pydantic<3,>=1.9.0->groq) (0.7.0)\n",
            "Requirement already satisfied: pydantic-core==2.33.2 in /usr/local/lib/python3.12/dist-packages (from pydantic<3,>=1.9.0->groq) (2.33.2)\n",
            "Requirement already satisfied: typing-inspection>=0.4.0 in /usr/local/lib/python3.12/dist-packages (from pydantic<3,>=1.9.0->groq) (0.4.1)\n"
          ]
        }
      ]
    },
    {
      "cell_type": "code",
      "source": [
        "conversation1 = [\n",
        "    {\"role\": \"user\", \"content\": \"Hi, how are you?\"},\n",
        "    {\"role\": \"assistant\", \"content\": \"I’m good! How about you?\"},\n",
        "    {\"role\": \"user\", \"content\": \"I’m learning AI, it’s interesting!\"},\n",
        "    {\"role\": \"assistant\", \"content\": \"That’s great! Which part of AI interests you?\"}\n",
        "]\n",
        "\n",
        "print(\"Conversation 1:\")\n",
        "for msg in conversation1:\n",
        "    print(f\"{msg['role']}: {msg['content']}\")\n"
      ],
      "metadata": {
        "colab": {
          "base_uri": "https://localhost:8080/"
        },
        "id": "TMVLJQkiXBwL",
        "outputId": "9a08b272-0467-461b-f547-b92d8c5ca11a"
      },
      "execution_count": 82,
      "outputs": [
        {
          "output_type": "stream",
          "name": "stdout",
          "text": [
            "Conversation 1:\n",
            "user: Hi, how are you?\n",
            "assistant: I’m good! How about you?\n",
            "user: I’m learning AI, it’s interesting!\n",
            "assistant: That’s great! Which part of AI interests you?\n"
          ]
        }
      ]
    },
    {
      "cell_type": "code",
      "source": [
        "def get_last_n_turns(conv, n=2):\n",
        "    return conv[-n:]\n",
        "\n",
        "last2 = get_last_n_turns(conversation1, n=2)\n",
        "print(\"\\nLast 2 turns:\")\n",
        "print(last2)\n"
      ],
      "metadata": {
        "colab": {
          "base_uri": "https://localhost:8080/"
        },
        "id": "QxRwAEloXEOf",
        "outputId": "5764d825-6364-4cd9-cb40-98b6dc75676d"
      },
      "execution_count": 83,
      "outputs": [
        {
          "output_type": "stream",
          "name": "stdout",
          "text": [
            "\n",
            "Last 2 turns:\n",
            "[{'role': 'user', 'content': 'I’m learning AI, it’s interesting!'}, {'role': 'assistant', 'content': 'That’s great! Which part of AI interests you?'}]\n"
          ]
        }
      ]
    },
    {
      "cell_type": "code",
      "source": [
        "def truncate_message(msg, char_limit=50):\n",
        "    return {\"role\": msg[\"role\"], \"content\": msg[\"content\"][:char_limit]}\n",
        "\n",
        "truncated_last = [truncate_message(msg, char_limit=50) for msg in last2]\n",
        "print(\"\\nTruncated last 2 turns by 50 characters:\")\n",
        "print(truncated_last)\n"
      ],
      "metadata": {
        "colab": {
          "base_uri": "https://localhost:8080/"
        },
        "id": "1UhXijA5XHZp",
        "outputId": "d6fcc0ce-e9b1-4eb1-d458-f2a79043be3b"
      },
      "execution_count": 84,
      "outputs": [
        {
          "output_type": "stream",
          "name": "stdout",
          "text": [
            "\n",
            "Truncated last 2 turns by 50 characters:\n",
            "[{'role': 'user', 'content': 'I’m learning AI, it’s interesting!'}, {'role': 'assistant', 'content': 'That’s great! Which part of AI interests you?'}]\n"
          ]
        }
      ]
    },
    {
      "cell_type": "code",
      "source": [
        "def summarize_conversation(conv):\n",
        "    text = \"\"\n",
        "    for msg in conv:\n",
        "        text += f\"{msg['role']}: {msg['content']}\\n\"\n",
        "\n",
        "    response = client.chat.completions.create(\n",
        "        model=\"llama-3.1-8b-instant\",\n",
        "        messages=[\n",
        "            {\"role\": \"system\", \"content\": \"Summarize the following conversation clearly in one or two sentences.\"},\n",
        "            {\"role\": \"user\", \"content\": text},\n",
        "        ],\n",
        "    )\n",
        "\n",
        "    summary_text = response.choices[0].message.content.strip()\n",
        "\n",
        "    summarized_conv = []\n",
        "    for line in summary_text.split(\"\\n\"):\n",
        "        if \":\" in line:\n",
        "            role, content = line.split(\":\", 1)\n",
        "            summarized_conv.append({\"role\": role.strip(), \"content\": content.strip()})\n",
        "\n",
        "    if not summarized_conv:\n",
        "        summarized_conv = [{\"role\": \"assistant\", \"content\": summary_text}]\n",
        "\n",
        "    return summarized_conv\n"
      ],
      "metadata": {
        "id": "H7ZxNVtpXIf7"
      },
      "execution_count": 85,
      "outputs": []
    },
    {
      "cell_type": "code",
      "source": [
        "def periodic_summarization(conv, k, run_number):\n",
        "    \"\"\"\n",
        "    Summarize and replace conversation after every k-th run.\n",
        "    \"\"\"\n",
        "    if run_number % k == 0:\n",
        "        summarized = summarize_conversation(conv)\n",
        "        return summarized\n",
        "    return conv\n"
      ],
      "metadata": {
        "id": "je0TSM1oXXDu"
      },
      "execution_count": 86,
      "outputs": []
    },
    {
      "cell_type": "code",
      "source": [
        "conversation2 = [\n",
        "    {\"role\": \"user\", \"content\": \"Do you like movies?\"},\n",
        "    {\"role\": \"assistant\", \"content\": \"Yes, I love movies! What genre do you enjoy?\"},\n",
        "    {\"role\": \"user\", \"content\": \"I like science fiction, it’s so imaginative.\"},\n",
        "    {\"role\": \"assistant\", \"content\": \"Great choice! Sci-fi really pushes creativity.\"}\n",
        "]\n",
        "\n",
        "run_number = 2\n",
        "conversation2 = periodic_summarization(conversation2, k=2, run_number=run_number)\n",
        "print(\"\\nPeriodic summarization for conversation2 (after 2nd run):\")\n",
        "print(conversation2)\n"
      ],
      "metadata": {
        "colab": {
          "base_uri": "https://localhost:8080/"
        },
        "id": "tyvaq5mLYhOG",
        "outputId": "18f3c29b-6ea1-48a5-8f32-8318bce6cbc1"
      },
      "execution_count": 87,
      "outputs": [
        {
          "output_type": "stream",
          "name": "stdout",
          "text": [
            "\n",
            "Periodic summarization for conversation2 (after 2nd run):\n",
            "[{'role': 'assistant', 'content': \"A user and an assistant had a conversation about movies, discussing the user's preference for science fiction films due to their imaginative nature. The assistant agreed, appreciating the creative aspect of science fiction.\"}]\n"
          ]
        }
      ]
    },
    {
      "cell_type": "code",
      "source": [
        "last2 = get_last_n_turns(conversation2, n=2)\n",
        "print(\"\\nLast 2 turns:\")\n",
        "print(last2)\n",
        "\n",
        "truncated_50 = [truncate_message(msg, char_limit=50) for msg in last2]\n",
        "print(\"\\nTruncated by 50 characters:\")\n",
        "print(truncated_50)\n",
        "\n",
        "truncated_30 = [truncate_message(msg, char_limit=30) for msg in last2]\n",
        "print(\"\\nTruncated by 30 characters:\")\n",
        "print(truncated_30)\n"
      ],
      "metadata": {
        "colab": {
          "base_uri": "https://localhost:8080/"
        },
        "id": "7zGMTADTXapr",
        "outputId": "23f83cb4-4813-46f5-a948-79ca3683e283"
      },
      "execution_count": 88,
      "outputs": [
        {
          "output_type": "stream",
          "name": "stdout",
          "text": [
            "\n",
            "Last 2 turns:\n",
            "[{'role': 'assistant', 'content': \"A user and an assistant had a conversation about movies, discussing the user's preference for science fiction films due to their imaginative nature. The assistant agreed, appreciating the creative aspect of science fiction.\"}]\n",
            "\n",
            "Truncated by 50 characters:\n",
            "[{'role': 'assistant', 'content': 'A user and an assistant had a conversation about m'}]\n",
            "\n",
            "Truncated by 30 characters:\n",
            "[{'role': 'assistant', 'content': 'A user and an assistant had a '}]\n"
          ]
        }
      ]
    },
    {
      "cell_type": "code",
      "source": [
        "#TASK 2\n",
        "\n",
        "info_schema = {\n",
        "    \"type\": \"object\",\n",
        "    \"properties\": {\n",
        "        \"name\": {\"type\": \"string\", \"description\": \"Full name of the user\"},\n",
        "        \"email\": {\"type\": \"string\", \"format\": \"email\", \"description\": \"Email address of the user\"},\n",
        "        \"phone\": {\"type\": \"string\", \"description\": \"Phone number with country code if available\"},\n",
        "        \"location\": {\"type\": \"string\", \"description\": \"City or location of the user\"},\n",
        "        \"age\": {\"type\": \"integer\", \"description\": \"Age of the user in years\"}\n",
        "    },\n",
        "    \"required\": [\"name\", \"email\", \"phone\", \"location\", \"age\"]\n",
        "}\n"
      ],
      "metadata": {
        "id": "lCTcwmWm7BJp"
      },
      "execution_count": 89,
      "outputs": []
    },
    {
      "cell_type": "code",
      "source": [
        "sample_chats = [\n",
        "    \"Hi, my name is Virat. You can reach me at virat@example.com or +91-9876543210. I live in Bangalore and I am 22 years old.\",\n",
        "    \"Hello, I'm Priya Sharma. Email: priya.sharma@email.com, Phone: 555-234-5678. Location: Mumbai. Age: 25.\",\n",
        "    \"Hey, this is Rahul. My contact rahul123@gmail.com, phone number 987-123-4567. I am 28 years old and stay in Delhi.\"\n",
        "]\n"
      ],
      "metadata": {
        "id": "Ke5k2qaM7KH5"
      },
      "execution_count": 90,
      "outputs": []
    },
    {
      "cell_type": "code",
      "source": [
        "import os\n",
        "from dotenv import load_dotenv\n",
        "from groq import Groq\n",
        "import json\n",
        "\n",
        "load_dotenv()\n",
        "\n",
        "client = Groq(api_key=os.getenv(\"GROQ_API_KEY\"))\n",
        "\n",
        "\n",
        "info_schema = {\n",
        "    \"name\": \"string\",\n",
        "    \"email\": \"string\",\n",
        "    \"phone\": \"string\",\n",
        "    \"location\": \"string\",\n",
        "    \"age\": \"integer\"\n",
        "}\n",
        "\n",
        "\n",
        "sample_chats = [\n",
        "    \"Hi, I am Virat. You can reach me at virat@example.com or call me at +91-9876543210. I live in Bangalore and I am 22 years old.\",\n",
        "    \"Hello, my name is Priya. My email is priya@example.com, phone number is +91-9123456789. I’m from Delhi and I’m 25.\"\n",
        "]\n",
        "\n",
        "extracted_data = []\n",
        "\n",
        "for chat in sample_chats:\n",
        "    response = client.chat.completions.create(\n",
        "        model=\"llama-3.1-8b-instant\",\n",
        "        messages=[\n",
        "            {\n",
        "                \"role\": \"system\",\n",
        "                \"content\": (\n",
        "                    \"You are an information extractor. \"\n",
        "                    \"Extract user details (name, email, phone, location, age) from the conversation. \"\n",
        "                    \"Return ONLY valid JSON, matching this structure exactly: \"\n",
        "                    '{\"name\": string, \"email\": string, \"phone\": string, \"location\": string, \"age\": integer}. '\n",
        "                    \"Do not include explanations, markdown, or schema. Output only one JSON object.\"\n",
        "                )\n",
        "            },\n",
        "            {\"role\": \"user\", \"content\": chat},\n",
        "        ],\n",
        "    )\n",
        "\n",
        "    message_obj = response.choices[0].message\n",
        "\n",
        "\n",
        "    func_call = getattr(message_obj, \"function_call\", None)\n",
        "    if func_call and hasattr(func_call, \"arguments\"):\n",
        "        func_args = func_call.arguments\n",
        "    else:\n",
        "        func_args = message_obj.content\n",
        "\n",
        "    try:\n",
        "        parsed_args = json.loads(func_args)\n",
        "        extracted_data.append(parsed_args)\n",
        "    except json.JSONDecodeError:\n",
        "        extracted_data.append({\"error\": \"Invalid JSON returned\", \"raw\": func_args})\n",
        "\n",
        "\n",
        "for i, data in enumerate(extracted_data):\n",
        "    print(f\"Chat {i+1} extracted info:\")\n",
        "    print(data)\n",
        "    print(\"-\" * 50)\n"
      ],
      "metadata": {
        "colab": {
          "base_uri": "https://localhost:8080/"
        },
        "id": "q09Dbuh17NPk",
        "outputId": "dfba9710-bc94-4d0b-c7d3-7ce5932c87c1"
      },
      "execution_count": 91,
      "outputs": [
        {
          "output_type": "stream",
          "name": "stdout",
          "text": [
            "Chat 1 extracted info:\n",
            "{'name': 'Virat', 'email': 'virat@example.com', 'phone': '+91-9876543210', 'location': 'Bangalore', 'age': 22}\n",
            "--------------------------------------------------\n",
            "Chat 2 extracted info:\n",
            "{'name': 'Priya', 'email': 'priya@example.com', 'phone': '+91-9123456789', 'location': 'Delhi', 'age': 25}\n",
            "--------------------------------------------------\n"
          ]
        }
      ]
    },
    {
      "cell_type": "code",
      "source": [
        "from jsonschema import validate, ValidationError\n",
        "\n",
        "for i, data in enumerate(extracted_data):\n",
        "    try:\n",
        "        validate(instance=data, schema=info_schema)\n",
        "        print(f\"Chat {i+1} ✅ Valid data\")\n",
        "    except ValidationError as e:\n",
        "        print(f\"Chat {i+1} ❌ Invalid data: {e}\")\n"
      ],
      "metadata": {
        "colab": {
          "base_uri": "https://localhost:8080/"
        },
        "id": "hjsgg1H37QXT",
        "outputId": "13fa0701-e667-4954-a3ae-bcc0b881734a"
      },
      "execution_count": 92,
      "outputs": [
        {
          "output_type": "stream",
          "name": "stdout",
          "text": [
            "Chat 1 ✅ Valid data\n",
            "Chat 2 ✅ Valid data\n"
          ]
        }
      ]
    }
  ]
}